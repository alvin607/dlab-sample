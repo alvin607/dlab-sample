{
 "cells": [
  {
   "cell_type": "code",
   "execution_count": 16,
   "id": "69f2d14f",
   "metadata": {},
   "outputs": [],
   "source": [
    "import numpy as np\n",
    "import pandas as pd\n",
    "import re\n",
    "\n",
    "import matplotlib.pyplot as plt\n",
    "import plotly.express as px\n",
    "import seaborn as sb\n",
    "\n",
    "from sklearn.model_selection import train_test_split\n",
    "from sklearn.preprocessing import StandardScaler\n",
    "\n",
    "from sklearn.linear_model import  LinearRegression\n",
    "from sklearn.metrics import r2_score\n",
    "from sklearn.metrics import mean_squared_error \n",
    "from sklearn.feature_selection import RFE\n"
   ]
  },
  {
   "cell_type": "code",
   "execution_count": 17,
   "id": "7b00eada",
   "metadata": {},
   "outputs": [
    {
     "name": "stdout",
     "output_type": "stream",
     "text": [
      "    brand processor_brand processor_name processor_gnrtn ram_gb ram_type  \\\n",
      "0    ASUS           Intel        Core i3            10th   4 GB     DDR4   \n",
      "1  Lenovo           Intel        Core i3            10th   4 GB     DDR4   \n",
      "2  Lenovo           Intel        Core i3            10th   4 GB     DDR4   \n",
      "3    ASUS           Intel        Core i5            10th   8 GB     DDR4   \n",
      "4    ASUS           Intel   Celeron Dual   Not Available   4 GB     DDR4   \n",
      "\n",
      "      ssd      hdd       os  os_bit graphic_card_gb  weight     warranty  \\\n",
      "0    0 GB  1024 GB  Windows  64-bit            0 GB  Casual  No warranty   \n",
      "1    0 GB  1024 GB  Windows  64-bit            0 GB  Casual  No warranty   \n",
      "2    0 GB  1024 GB  Windows  64-bit            0 GB  Casual  No warranty   \n",
      "3  512 GB     0 GB  Windows  32-bit            2 GB  Casual  No warranty   \n",
      "4    0 GB   512 GB  Windows  64-bit            0 GB  Casual  No warranty   \n",
      "\n",
      "  Touchscreen msoffice  Price   rating  Number of Ratings  Number of Reviews  \n",
      "0          No       No  34649  2 stars                  3                  0  \n",
      "1          No       No  38999  3 stars                 65                  5  \n",
      "2          No       No  39999  3 stars                  8                  1  \n",
      "3          No       No  69990  3 stars                  0                  0  \n",
      "4          No       No  26990  3 stars                  0                  0  \n"
     ]
    }
   ],
   "source": [
    "# Replace with your dataset file path\n",
    "df = pd.read_csv(\"laptop_Price.csv\")\n",
    "print(df.head())"
   ]
  }
 ],
 "metadata": {
  "kernelspec": {
   "display_name": ".venv",
   "language": "python",
   "name": "python3"
  },
  "language_info": {
   "codemirror_mode": {
    "name": "ipython",
    "version": 3
   },
   "file_extension": ".py",
   "mimetype": "text/x-python",
   "name": "python",
   "nbconvert_exporter": "python",
   "pygments_lexer": "ipython3",
   "version": "3.13.7"
  }
 },
 "nbformat": 4,
 "nbformat_minor": 5
}
